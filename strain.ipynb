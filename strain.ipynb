{
 "metadata": {
  "name": ""
 },
 "nbformat": 3,
 "nbformat_minor": 0,
 "worksheets": [
  {
   "cells": [
    {
     "cell_type": "code",
     "collapsed": false,
     "input": [
      "import numpy as np\n",
      "import pylab as py\n",
      "import matplotlib.pyplot as plt\n",
      "import scipy.linalg as linal\n",
      "from scipy import stats\n",
      "%pylab inline"
     ],
     "language": "python",
     "metadata": {},
     "outputs": [
      {
       "output_type": "stream",
       "stream": "stdout",
       "text": [
        "Populating the interactive namespace from numpy and matplotlib\n"
       ]
      },
      {
       "output_type": "stream",
       "stream": "stderr",
       "text": [
        "WARNING: pylab import has clobbered these variables: ['e']\n",
        "`%pylab --no-import-all` prevents importing * from pylab and numpy\n"
       ]
      }
     ],
     "prompt_number": 59
    },
    {
     "cell_type": "code",
     "collapsed": false,
     "input": [
      "#Importar Datos\n",
      "datos = np.loadtxt(\"antofagasta.dat\")\n",
      "lat   = datos[:,0]\n",
      "lon   = datos[:,1]\n",
      "uEast    = datos[:,2]\n",
      "errEast  = datos[:,3]\n",
      "uNorth   = datos[:,4]\n",
      "errNorth = datos[:,5]\n",
      "\n",
      "#Grados a Radianes\n",
      "lat=lat*(np.pi/180)\n",
      "lon=lon*(np.pi/180)\n",
      "\n",
      "#Transformacion de Coordenadas Lat-Lon a UTM\n",
      "l  = lat.shape[0]\n",
      "ko = 0.9996\n",
      "e  = 0.08\n",
      "a  = 6378137\n",
      "b  = 6356752.3142\n",
      "n  = (a-b)/(a+b)\n",
      "ep2= 0.007\n",
      "\n",
      "def nu(latt):\n",
      "    nuc = a/((1-e**2*(np.sin(latt))**2)**(1/2))\n",
      "    return nuc\n",
      "\n",
      "def M(latPar):\n",
      "    MM = a*((1-e**2/4-3*e**4/64-5*e**6/256)*latPar-(3*e**2/8+3*e**4/32+45*e**6/1024)*np.sin(2*latPar)+(15*e**4/256 + 45*e**6/1024)*np.sin(4*latPar) - (35*e**6/3072)*np.sin(6*latPar))\n",
      "    return MM\n",
      "\n",
      "latUTM = np.zeros(l)\n",
      "lonUTM = np.zeros(l)\n",
      "\n",
      "for i in range (0, l):\n",
      "    latt = lat[i]\n",
      "    k1=ko*(M(latt))\n",
      "    k2=ko*nu(latt)*np.sin(latt)*np.cos(latt)*0.5\n",
      "    k3=(ko*nu(latt)*np.sin(latt)*(np.cos(latt))**3*(1/24))*(5-(np.tan(latt))**2+9*ep2*(np.cos(latt))**2+4*ep2**2*(np.cos(latt))**4)\n",
      "    k4=ko*nu(latt)*np.cos(latt)\n",
      "    k5=(ko*nu(latt)*(np.cos(latt))**3*(1/6))*(1-(np.tan(latt)**2)+ep2*(np.cos(latt))**2)\n",
      "        \n",
      "    longitud = lon[i]\n",
      "    longo = 291*(np.pi/180)#69west: meridiano central de la zona UTM19S\n",
      "    p = longitud -longo\n",
      "    \n",
      "    v1=k1+(k2*p**2)+(k3*p**4)\n",
      "    v2=(k4*p)+(k5*p**3)\n",
      "    latUTM[i] = v1\n",
      "    lonUTM[i] = v2\n",
      "                                                            "
     ],
     "language": "python",
     "metadata": {},
     "outputs": [],
     "prompt_number": 60
    },
    {
     "cell_type": "code",
     "collapsed": false,
     "input": [
      "#Determine the mean vector that characteries at best possible the overall orientations of vectors\n",
      "UE = 0\n",
      "UN = 0\n",
      "for i in range (0, l):\n",
      "    UE = UE + uEast[i]\n",
      "    UN = UN + uNorth[i]\n",
      "    \n",
      "UE=UE/l\n",
      "UN=UN/l\n",
      "#Determine the two dimensional transformation matrix for X1' parallel to the mean direction Vector\n",
      "t11 = np.arctan(UE/UN)\n",
      "t12 = (np.pi)/2-t11\n",
      "t22 = t11\n",
      "t21 = (np.pi)/2+t22\n",
      "a11 = np.cos(t11)\n",
      "a12 = np.cos(t12)\n",
      "a21 = np.cos(t21)\n",
      "a22 = np.cos(t22)\n",
      "#Transform the east and north coordinates of the GPS vectors and the errors\n",
      "latTrans = np.zeros(l)\n",
      "lonTrans = np.zeros(l)\n",
      "eijMags = np.zeros(l)\n",
      "\n",
      "def parteSimetrica(eij, eji):\n",
      "    eeij=(1/2)*(eij+eji)\n",
      "    return eeij\n",
      "\n",
      "def posiciones(lat,lon):\n",
      "    pos = np.sqrt(lat**2+lon**2)\n",
      "    return pos\n",
      "\n",
      "posTotal = np.zeros(l)\n",
      "\n",
      "\n",
      "for i in range (0, l):\n",
      "    v1=latUTM[i]\n",
      "    v2=lonUTM[i]    \n",
      "    v1p = v1*a11+v2*a12\n",
      "    v2p = v2*a21+v2*a22\n",
      "    latTrans[i] = v1p\n",
      "    lonTrans[i] = v2p\n",
      "    posTotal[i] = posiciones(v1p,v2p)\n",
      "        \n",
      "    #Estimate the symmetric part of the strain tensor\n",
      "    s=(2,2)\n",
      "    e=np.zeros(s)    \n",
      "    e[0,0]=uEast[i]/latTrans[i]\n",
      "    e[0,1]=parteSimetrica(uNorth[i]/latTrans[i],uEast[i]/lonTrans[i])\n",
      "    e[1,0]=parteSimetrica(uNorth[i]/latTrans[i],uEast[i]/lonTrans[i])\n",
      "    e[1,1]=uNorth[i]/lonTrans[i]\n",
      "    \n",
      "    autovalores = linal.eigvals(e)       \n",
      "    eijMags[i] = np.linalg.norm(autovalores) \n"
     ],
     "language": "python",
     "metadata": {},
     "outputs": [],
     "prompt_number": 61
    },
    {
     "cell_type": "code",
     "collapsed": false,
     "input": [
      "#Fit a straight line to approximate each set of points\n",
      "slope1, intercept1, r_value1, p_value1, std_err1 = stats.linregress(posTotal[1:5], eijMags[1:5])\n",
      "slope2, intercept2, r_value2, p_value2, std_err2 = stats.linregress(posTotal[6:12], eijMags[6:12])\n",
      "slope3, intercept3, r_value3, p_value3, std_err3 = stats.linregress(posTotal[13:29], eijMags[13:29])\n",
      "\n",
      "line1 = slope1*posTotal+intercept1\n",
      "line2 = slope2*posTotal+intercept2\n",
      "line3 = slope3*posTotal+intercept3\n",
      "plot(posTotal,line1,'r-',posTotal,line2,'g-',posTotal,line3,'b-',posTotal, eijMags,'o')\n",
      "ylim(-0.0000002, 0.0000002)\n",
      "xlabel('Position')\n",
      "ylabel('Strain')\n",
      "title('Magnitud del Autovector del Tensor de Deformacion')"
     ],
     "language": "python",
     "metadata": {},
     "outputs": [
      {
       "metadata": {},
       "output_type": "pyout",
       "prompt_number": 63,
       "text": [
        "<matplotlib.text.Text at 0x7f26cec20c90>"
       ]
      },
      {
       "metadata": {},
       "output_type": "display_data",
       "png": "[encoded data removed]",
       "text": [
        "<matplotlib.figure.Figure at 0x7f26cec52910>"
       ]
      }
     ],
     "prompt_number": 63
    },
    {
     "cell_type": "markdown",
     "metadata": {},
     "source": [
      "La grafica de la magnitud del autovector del tensor de deformacion, muestra que los puntos pueden ser divididos en al menos 3 sets de datos, para los cuales se puede realizar una aproximaci\u00f3n lineal. Las pendientes negativas muestran que la deformacion fue negativa, lo cual se puede interpretar como un esfuerzo compresivo general en la region. El hecho de que existan 3 pendientes diferentes puede indicar diferentes momentos de deformacion, o zonas geograficamente separadas estructuralmente distintas, que se deforman de formas diferentes."
     ]
    }
   ],
   "metadata": {}
  }
 ]
}